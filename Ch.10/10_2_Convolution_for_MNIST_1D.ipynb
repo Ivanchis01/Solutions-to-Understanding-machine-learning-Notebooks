{
  "nbformat": 4,
  "nbformat_minor": 0,
  "metadata": {
    "colab": {
      "provenance": [],
      "include_colab_link": true
    },
    "kernelspec": {
      "name": "python3",
      "display_name": "Python 3"
    },
    "language_info": {
      "name": "python"
    }
  },
  "cells": [
    {
      "cell_type": "markdown",
      "metadata": {
        "id": "view-in-github",
        "colab_type": "text"
      },
      "source": [
        "<a href=\"https://colab.research.google.com/github/Ivanchis01/Solutions-to-Understanding-machine-learning-Notebooks/blob/main/10_2_Convolution_for_MNIST_1D.ipynb\" target=\"_parent\"><img src=\"https://colab.research.google.com/assets/colab-badge.svg\" alt=\"Open In Colab\"/></a>"
      ]
    },
    {
      "cell_type": "markdown",
      "source": [
        "# **Notebook 10.2: Convolution for MNIST-1D** *Solution*"
      ],
      "metadata": {
        "id": "t9vk9Elugvmi"
      }
    },
    {
      "cell_type": "code",
      "source": [
        "# Run this if you're in a Colab to install MNIST 1D repository\n",
        "!pip install git+https://github.com/greydanus/mnist1d"
      ],
      "metadata": {
        "id": "D5yLObtZCi9J",
        "outputId": "b7eb45dd-6371-482d-eb89-f17c3a63028e",
        "colab": {
          "base_uri": "https://localhost:8080/"
        }
      },
      "execution_count": 1,
      "outputs": [
        {
          "output_type": "stream",
          "name": "stdout",
          "text": [
            "Collecting git+https://github.com/greydanus/mnist1d\n",
            "  Cloning https://github.com/greydanus/mnist1d to /tmp/pip-req-build-gb7ybh_a\n",
            "  Running command git clone --filter=blob:none --quiet https://github.com/greydanus/mnist1d /tmp/pip-req-build-gb7ybh_a\n",
            "  Resolved https://github.com/greydanus/mnist1d to commit 350929d12f4c9a4b7355e0c96604e41b9239bdb4\n",
            "  Installing build dependencies ... \u001b[?25l\u001b[?25hdone\n",
            "  Getting requirements to build wheel ... \u001b[?25l\u001b[?25hdone\n",
            "  Preparing metadata (pyproject.toml) ... \u001b[?25l\u001b[?25hdone\n",
            "Requirement already satisfied: requests in /usr/local/lib/python3.10/dist-packages (from mnist1d==0.0.2.post9) (2.31.0)\n",
            "Requirement already satisfied: numpy in /usr/local/lib/python3.10/dist-packages (from mnist1d==0.0.2.post9) (1.25.2)\n",
            "Requirement already satisfied: matplotlib in /usr/local/lib/python3.10/dist-packages (from mnist1d==0.0.2.post9) (3.7.1)\n",
            "Requirement already satisfied: scipy in /usr/local/lib/python3.10/dist-packages (from mnist1d==0.0.2.post9) (1.11.4)\n",
            "Requirement already satisfied: contourpy>=1.0.1 in /usr/local/lib/python3.10/dist-packages (from matplotlib->mnist1d==0.0.2.post9) (1.2.1)\n",
            "Requirement already satisfied: cycler>=0.10 in /usr/local/lib/python3.10/dist-packages (from matplotlib->mnist1d==0.0.2.post9) (0.12.1)\n",
            "Requirement already satisfied: fonttools>=4.22.0 in /usr/local/lib/python3.10/dist-packages (from matplotlib->mnist1d==0.0.2.post9) (4.53.0)\n",
            "Requirement already satisfied: kiwisolver>=1.0.1 in /usr/local/lib/python3.10/dist-packages (from matplotlib->mnist1d==0.0.2.post9) (1.4.5)\n",
            "Requirement already satisfied: packaging>=20.0 in /usr/local/lib/python3.10/dist-packages (from matplotlib->mnist1d==0.0.2.post9) (24.1)\n",
            "Requirement already satisfied: pillow>=6.2.0 in /usr/local/lib/python3.10/dist-packages (from matplotlib->mnist1d==0.0.2.post9) (9.4.0)\n",
            "Requirement already satisfied: pyparsing>=2.3.1 in /usr/local/lib/python3.10/dist-packages (from matplotlib->mnist1d==0.0.2.post9) (3.1.2)\n",
            "Requirement already satisfied: python-dateutil>=2.7 in /usr/local/lib/python3.10/dist-packages (from matplotlib->mnist1d==0.0.2.post9) (2.8.2)\n",
            "Requirement already satisfied: charset-normalizer<4,>=2 in /usr/local/lib/python3.10/dist-packages (from requests->mnist1d==0.0.2.post9) (3.3.2)\n",
            "Requirement already satisfied: idna<4,>=2.5 in /usr/local/lib/python3.10/dist-packages (from requests->mnist1d==0.0.2.post9) (3.7)\n",
            "Requirement already satisfied: urllib3<3,>=1.21.1 in /usr/local/lib/python3.10/dist-packages (from requests->mnist1d==0.0.2.post9) (2.0.7)\n",
            "Requirement already satisfied: certifi>=2017.4.17 in /usr/local/lib/python3.10/dist-packages (from requests->mnist1d==0.0.2.post9) (2024.6.2)\n",
            "Requirement already satisfied: six>=1.5 in /usr/local/lib/python3.10/dist-packages (from python-dateutil>=2.7->matplotlib->mnist1d==0.0.2.post9) (1.16.0)\n",
            "Building wheels for collected packages: mnist1d\n",
            "  Building wheel for mnist1d (pyproject.toml) ... \u001b[?25l\u001b[?25hdone\n",
            "  Created wheel for mnist1d: filename=mnist1d-0.0.2.post9-py3-none-any.whl size=14496 sha256=5ddb64f59263a7cfdf39a0830549f17feed7d235433db8b931dacf464e4b6047\n",
            "  Stored in directory: /tmp/pip-ephem-wheel-cache-ynnxp9ox/wheels/41/95/55/45fcf7d38cfa97e35682da6c5017d4513729131326ce935371\n",
            "Successfully built mnist1d\n",
            "Installing collected packages: mnist1d\n",
            "Successfully installed mnist1d-0.0.2.post9\n"
          ]
        }
      ]
    },
    {
      "cell_type": "code",
      "source": [
        "import numpy as np\n",
        "import os\n",
        "import torch, torch.nn as nn\n",
        "from torch.utils.data import TensorDataset, DataLoader\n",
        "from torch.optim.lr_scheduler import StepLR\n",
        "import matplotlib.pyplot as plt\n",
        "import mnist1d\n",
        "import random"
      ],
      "metadata": {
        "id": "YrXWAH7sUWvU"
      },
      "execution_count": 2,
      "outputs": []
    },
    {
      "cell_type": "code",
      "source": [
        "args = mnist1d.data.get_dataset_args()\n",
        "data = mnist1d.data.get_dataset(args, path='./mnist1d_data.pkl', download=False, regenerate=False)\n",
        "\n",
        "# The training and test input and outputs are in\n",
        "# data['x'], data['y'], data['x_test'], and data['y_test']\n",
        "print(\"Examples in training set: {}\".format(len(data['y'])))\n",
        "print(\"Examples in test set: {}\".format(len(data['y_test'])))\n",
        "print(\"Length of each example: {}\".format(data['x'].shape[-1]))"
      ],
      "metadata": {
        "id": "twI72ZCrCt5z",
        "outputId": "07db9784-3d52-4b1b-a9d0-f81226ce1f6f",
        "colab": {
          "base_uri": "https://localhost:8080/"
        }
      },
      "execution_count": 3,
      "outputs": [
        {
          "output_type": "stream",
          "name": "stdout",
          "text": [
            "Did or could not load data from ./mnist1d_data.pkl. Rebuilding dataset...\n",
            "Examples in training set: 4000\n",
            "Examples in test set: 1000\n",
            "Length of each example: 40\n"
          ]
        }
      ]
    },
    {
      "cell_type": "code",
      "source": [
        "# Load in the data\n",
        "train_data_x = data['x'].transpose()\n",
        "train_data_y = data['y']\n",
        "val_data_x = data['x_test'].transpose()\n",
        "val_data_y = data['y_test']\n",
        "# Print out sizes\n",
        "print(\"Train data: %d examples (columns), each of which has %d dimensions (rows)\"%((train_data_x.shape[1],train_data_x.shape[0])))\n",
        "print(\"Validation data: %d examples (columns), each of which has %d dimensions (rows)\"%((val_data_x.shape[1],val_data_x.shape[0])))"
      ],
      "metadata": {
        "id": "8bKADvLHbiV5",
        "outputId": "f57ed1ce-2abf-4214-e16f-c154b705cfe5",
        "colab": {
          "base_uri": "https://localhost:8080/"
        }
      },
      "execution_count": 4,
      "outputs": [
        {
          "output_type": "stream",
          "name": "stdout",
          "text": [
            "Train data: 4000 examples (columns), each of which has 40 dimensions (rows)\n",
            "Validation data: 1000 examples (columns), each of which has 40 dimensions (rows)\n"
          ]
        }
      ]
    },
    {
      "cell_type": "markdown",
      "source": [
        "Define the network"
      ],
      "metadata": {
        "id": "_sFvRDGrl4qe"
      }
    },
    {
      "cell_type": "code",
      "source": [
        "# There are 40 input dimensions and 10 output dimensions for this data\n",
        "# The inputs correspond to the 40 offsets in the MNIST1D template.\n",
        "D_i = 40\n",
        "# The outputs correspond to the 10 digits\n",
        "D_o = 10\n",
        "\n",
        "\n",
        "# TODO Create a model with the following layers\n",
        "# 1. Convolutional layer, (input=length 40 and 1 channel, kernel size 3, stride 2, padding=\"valid\", 15 output channels )\n",
        "# 2. ReLU\n",
        "# 3. Convolutional layer, (input=length 19 and 15 channels, kernel size 3, stride 2, padding=\"valid\", 15 output channels )\n",
        "# 4. ReLU\n",
        "# 5. Convolutional layer, (input=length 9 and 15 channels, kernel size 3, stride 2, padding=\"valid\", 15 output channels)\n",
        "# 6. ReLU\n",
        "# 7. Flatten (converts 4x15) to length 60\n",
        "# 8. Linear layer (input size = 60, output size = 10)\n",
        "# References:\n",
        "# https://pytorch.org/docs/1.13/generated/torch.nn.Conv1d.html?highlight=conv1d#torch.nn.Conv1d\n",
        "# https://pytorch.org/docs/stable/generated/torch.nn.Flatten.html\n",
        "# https://pytorch.org/docs/1.13/generated/torch.nn.Linear.html?highlight=linear#torch.nn.Linear\n",
        "\n",
        "# NOTE THAT THE CONVOLUTIONAL LAYERS NEED TO TAKE THE NUMBER OF INPUT CHANNELS AS A PARAMETER\n",
        "# AND NOT THE INPUT SIZE.\n",
        "\n",
        "# Replace the following function:\n",
        "model = nn.Sequential(\n",
        "    nn.Conv1d(1,15,3,2,'valid'),\n",
        "    nn.ReLU(),\n",
        "    nn.Conv1d(15,15,3,2,'valid'),\n",
        "    nn.ReLU(),\n",
        "    nn.Conv1d(15,15,3,2,'valid'),\n",
        "    nn.ReLU(),\n",
        "    nn.Flatten(),\n",
        "    nn.Linear(60, 10))\n",
        "\n",
        "\n",
        "\n"
      ],
      "metadata": {
        "id": "FslroPJJffrh"
      },
      "execution_count": 13,
      "outputs": []
    },
    {
      "cell_type": "code",
      "source": [
        "# He initialization of weights\n",
        "def weights_init(layer_in):\n",
        "  if isinstance(layer_in, nn.Linear):\n",
        "    nn.init.kaiming_uniform_(layer_in.weight)\n",
        "    layer_in.bias.data.fill_(0.0)"
      ],
      "metadata": {
        "id": "YgLaex1pfhqz"
      },
      "execution_count": 14,
      "outputs": []
    },
    {
      "cell_type": "code",
      "source": [
        "# choose cross entropy loss function (equation 5.24 in the loss notes)\n",
        "loss_function = nn.CrossEntropyLoss()\n",
        "# construct SGD optimizer and initialize learning rate and momentum\n",
        "optimizer = torch.optim.SGD(model.parameters(), lr = 0.05, momentum=0.9)\n",
        "# object that decreases learning rate by half every 20 epochs\n",
        "scheduler = StepLR(optimizer, step_size=20, gamma=0.5)\n",
        "# create 100 dummy data points and store in data loader class\n",
        "x_train = torch.tensor(train_data_x.transpose().astype('float32'))\n",
        "y_train = torch.tensor(train_data_y.astype('long')).long()\n",
        "x_val= torch.tensor(val_data_x.transpose().astype('float32'))\n",
        "y_val = torch.tensor(val_data_y.astype('long')).long()\n",
        "\n",
        "# load the data into a class that creates the batches\n",
        "data_loader = DataLoader(TensorDataset(x_train,y_train), batch_size=100, shuffle=True, worker_init_fn=np.random.seed(1))\n",
        "\n",
        "# Initialize model weights\n",
        "model.apply(weights_init)\n",
        "\n",
        "# loop over the dataset n_epoch times\n",
        "n_epoch = 100\n",
        "# store the loss and the % correct at each epoch\n",
        "losses_train = np.zeros((n_epoch))\n",
        "errors_train = np.zeros((n_epoch))\n",
        "losses_val = np.zeros((n_epoch))\n",
        "errors_val = np.zeros((n_epoch))\n",
        "\n",
        "for epoch in range(n_epoch):\n",
        "  # loop over batches\n",
        "  for i, data in enumerate(data_loader):\n",
        "    # retrieve inputs and labels for this batch\n",
        "    x_batch, y_batch = data\n",
        "    # zero the parameter gradients\n",
        "    optimizer.zero_grad()\n",
        "    # forward pass -- calculate model output\n",
        "    pred = model(x_batch[:,None,:])\n",
        "    # compute the loss\n",
        "    loss = loss_function(pred, y_batch)\n",
        "    # backward pass\n",
        "    loss.backward()\n",
        "    # SGD update\n",
        "    optimizer.step()\n",
        "\n",
        "  # Run whole dataset to get statistics -- normally wouldn't do this\n",
        "  pred_train = model(x_train[:,None,:])\n",
        "  pred_val = model(x_val[:,None,:])\n",
        "  _, predicted_train_class = torch.max(pred_train.data, 1)\n",
        "  _, predicted_val_class = torch.max(pred_val.data, 1)\n",
        "  errors_train[epoch] = 100 - 100 * (predicted_train_class == y_train).float().sum() / len(y_train)\n",
        "  errors_val[epoch]= 100 - 100 * (predicted_val_class == y_val).float().sum() / len(y_val)\n",
        "  losses_train[epoch] = loss_function(pred_train, y_train).item()\n",
        "  losses_val[epoch]= loss_function(pred_val, y_val).item()\n",
        "  print(f'Epoch {epoch:5d}, train loss {losses_train[epoch]:.6f}, train error {errors_train[epoch]:3.2f},  val loss {losses_val[epoch]:.6f}, percent error {errors_val[epoch]:3.2f}')\n",
        "\n",
        "  # tell scheduler to consider updating learning rate\n",
        "  scheduler.step()\n",
        "\n",
        "# Plot the results\n",
        "fig, ax = plt.subplots()\n",
        "ax.plot(errors_train,'r-',label='train')\n",
        "ax.plot(errors_val,'b-',label='validation')\n",
        "ax.set_ylim(0,100); ax.set_xlim(0,n_epoch)\n",
        "ax.set_xlabel('Epoch'); ax.set_ylabel('Error')\n",
        "ax.set_title('Part I: Validation Result %3.2f'%(errors_val[-1]))\n",
        "ax.legend()\n",
        "plt.show()"
      ],
      "metadata": {
        "id": "NYw8I_3mmX5c",
        "outputId": "114af956-2326-47f9-fb0c-ce234d85ec47",
        "colab": {
          "base_uri": "https://localhost:8080/",
          "height": 1000
        }
      },
      "execution_count": 15,
      "outputs": [
        {
          "output_type": "stream",
          "name": "stdout",
          "text": [
            "Epoch     0, train loss 1.979291, train error 77.03,  val loss 1.983849, percent error 77.90\n",
            "Epoch     1, train loss 1.566929, train error 61.05,  val loss 1.580425, percent error 63.90\n",
            "Epoch     2, train loss 1.412678, train error 57.75,  val loss 1.442961, percent error 62.30\n",
            "Epoch     3, train loss 1.289246, train error 52.15,  val loss 1.306563, percent error 55.80\n",
            "Epoch     4, train loss 1.287971, train error 53.97,  val loss 1.299689, percent error 56.40\n",
            "Epoch     5, train loss 1.199579, train error 50.67,  val loss 1.219615, percent error 50.70\n",
            "Epoch     6, train loss 1.050381, train error 43.22,  val loss 1.077717, percent error 45.80\n",
            "Epoch     7, train loss 0.921701, train error 37.58,  val loss 0.940241, percent error 39.10\n",
            "Epoch     8, train loss 0.896156, train error 35.82,  val loss 0.940893, percent error 37.70\n",
            "Epoch     9, train loss 0.830787, train error 33.03,  val loss 0.908827, percent error 35.60\n",
            "Epoch    10, train loss 0.705588, train error 27.45,  val loss 0.736509, percent error 29.80\n",
            "Epoch    11, train loss 0.646395, train error 25.40,  val loss 0.689675, percent error 27.00\n",
            "Epoch    12, train loss 0.623141, train error 24.00,  val loss 0.691361, percent error 27.50\n",
            "Epoch    13, train loss 0.561693, train error 21.12,  val loss 0.646655, percent error 24.10\n",
            "Epoch    14, train loss 0.476638, train error 18.65,  val loss 0.566305, percent error 22.80\n",
            "Epoch    15, train loss 0.427624, train error 16.38,  val loss 0.518639, percent error 20.90\n",
            "Epoch    16, train loss 0.364788, train error 13.32,  val loss 0.459832, percent error 15.90\n",
            "Epoch    17, train loss 0.399324, train error 15.68,  val loss 0.520356, percent error 20.10\n",
            "Epoch    18, train loss 0.382559, train error 13.60,  val loss 0.541718, percent error 18.30\n",
            "Epoch    19, train loss 0.292531, train error 10.78,  val loss 0.442834, percent error 15.70\n",
            "Epoch    20, train loss 0.205639, train error 7.18,  val loss 0.362751, percent error 13.90\n",
            "Epoch    21, train loss 0.218687, train error 7.85,  val loss 0.381911, percent error 13.90\n",
            "Epoch    22, train loss 0.181127, train error 5.75,  val loss 0.346045, percent error 11.80\n",
            "Epoch    23, train loss 0.181813, train error 6.32,  val loss 0.354072, percent error 12.10\n",
            "Epoch    24, train loss 0.174648, train error 6.25,  val loss 0.370016, percent error 12.20\n",
            "Epoch    25, train loss 0.154349, train error 4.85,  val loss 0.340180, percent error 12.50\n",
            "Epoch    26, train loss 0.173050, train error 5.50,  val loss 0.362770, percent error 11.70\n",
            "Epoch    27, train loss 0.153357, train error 5.28,  val loss 0.349744, percent error 12.20\n",
            "Epoch    28, train loss 0.138931, train error 4.35,  val loss 0.335398, percent error 11.10\n",
            "Epoch    29, train loss 0.187701, train error 6.82,  val loss 0.379792, percent error 12.50\n",
            "Epoch    30, train loss 0.132326, train error 4.03,  val loss 0.319210, percent error 9.20\n",
            "Epoch    31, train loss 0.153874, train error 5.05,  val loss 0.359127, percent error 11.20\n",
            "Epoch    32, train loss 0.123649, train error 3.85,  val loss 0.332023, percent error 10.90\n",
            "Epoch    33, train loss 0.128218, train error 4.15,  val loss 0.340522, percent error 11.40\n",
            "Epoch    34, train loss 0.117509, train error 3.70,  val loss 0.330075, percent error 10.00\n",
            "Epoch    35, train loss 0.128401, train error 4.03,  val loss 0.354268, percent error 10.70\n",
            "Epoch    36, train loss 0.100348, train error 3.35,  val loss 0.353074, percent error 10.80\n",
            "Epoch    37, train loss 0.103729, train error 3.60,  val loss 0.358185, percent error 11.80\n",
            "Epoch    38, train loss 0.103547, train error 3.70,  val loss 0.359215, percent error 10.50\n",
            "Epoch    39, train loss 0.101925, train error 3.47,  val loss 0.359209, percent error 10.40\n",
            "Epoch    40, train loss 0.072507, train error 1.78,  val loss 0.339020, percent error 9.80\n",
            "Epoch    41, train loss 0.076927, train error 2.12,  val loss 0.338412, percent error 9.50\n",
            "Epoch    42, train loss 0.069756, train error 2.00,  val loss 0.349089, percent error 10.00\n",
            "Epoch    43, train loss 0.066058, train error 1.82,  val loss 0.350812, percent error 10.40\n",
            "Epoch    44, train loss 0.062104, train error 1.40,  val loss 0.350067, percent error 9.90\n",
            "Epoch    45, train loss 0.063651, train error 1.60,  val loss 0.348754, percent error 9.60\n",
            "Epoch    46, train loss 0.057987, train error 1.35,  val loss 0.347198, percent error 9.30\n",
            "Epoch    47, train loss 0.054721, train error 1.20,  val loss 0.355052, percent error 9.70\n",
            "Epoch    48, train loss 0.055428, train error 1.25,  val loss 0.355535, percent error 9.70\n",
            "Epoch    49, train loss 0.057654, train error 1.38,  val loss 0.369523, percent error 10.20\n",
            "Epoch    50, train loss 0.052409, train error 1.20,  val loss 0.356569, percent error 9.40\n",
            "Epoch    51, train loss 0.059648, train error 1.78,  val loss 0.384554, percent error 10.30\n",
            "Epoch    52, train loss 0.053669, train error 1.43,  val loss 0.370323, percent error 9.90\n",
            "Epoch    53, train loss 0.051477, train error 1.28,  val loss 0.363213, percent error 9.20\n",
            "Epoch    54, train loss 0.046795, train error 1.12,  val loss 0.366879, percent error 9.60\n",
            "Epoch    55, train loss 0.046870, train error 0.90,  val loss 0.384605, percent error 9.90\n",
            "Epoch    56, train loss 0.044979, train error 1.03,  val loss 0.374928, percent error 9.40\n",
            "Epoch    57, train loss 0.043967, train error 0.88,  val loss 0.376085, percent error 9.70\n",
            "Epoch    58, train loss 0.045006, train error 1.10,  val loss 0.381233, percent error 9.60\n",
            "Epoch    59, train loss 0.042389, train error 0.82,  val loss 0.377016, percent error 9.60\n",
            "Epoch    60, train loss 0.040029, train error 0.78,  val loss 0.378857, percent error 9.80\n",
            "Epoch    61, train loss 0.036810, train error 0.62,  val loss 0.382489, percent error 9.40\n",
            "Epoch    62, train loss 0.036548, train error 0.60,  val loss 0.384783, percent error 9.80\n",
            "Epoch    63, train loss 0.036265, train error 0.65,  val loss 0.386388, percent error 9.70\n",
            "Epoch    64, train loss 0.037124, train error 0.50,  val loss 0.386952, percent error 9.80\n",
            "Epoch    65, train loss 0.036137, train error 0.65,  val loss 0.395971, percent error 10.00\n",
            "Epoch    66, train loss 0.034736, train error 0.55,  val loss 0.385883, percent error 9.80\n",
            "Epoch    67, train loss 0.034579, train error 0.55,  val loss 0.389236, percent error 9.50\n",
            "Epoch    68, train loss 0.034835, train error 0.50,  val loss 0.388496, percent error 9.60\n",
            "Epoch    69, train loss 0.033002, train error 0.53,  val loss 0.394731, percent error 9.70\n",
            "Epoch    70, train loss 0.033316, train error 0.60,  val loss 0.392981, percent error 9.60\n",
            "Epoch    71, train loss 0.033410, train error 0.55,  val loss 0.395120, percent error 9.60\n",
            "Epoch    72, train loss 0.031655, train error 0.47,  val loss 0.394918, percent error 9.60\n",
            "Epoch    73, train loss 0.033793, train error 0.60,  val loss 0.408968, percent error 9.90\n",
            "Epoch    74, train loss 0.031511, train error 0.45,  val loss 0.395582, percent error 9.80\n",
            "Epoch    75, train loss 0.032067, train error 0.50,  val loss 0.401378, percent error 10.20\n",
            "Epoch    76, train loss 0.030014, train error 0.38,  val loss 0.407198, percent error 9.90\n",
            "Epoch    77, train loss 0.030171, train error 0.43,  val loss 0.406827, percent error 9.50\n",
            "Epoch    78, train loss 0.029263, train error 0.40,  val loss 0.406058, percent error 9.60\n",
            "Epoch    79, train loss 0.029421, train error 0.43,  val loss 0.414715, percent error 9.70\n",
            "Epoch    80, train loss 0.029647, train error 0.40,  val loss 0.410767, percent error 9.60\n",
            "Epoch    81, train loss 0.028363, train error 0.40,  val loss 0.408722, percent error 9.50\n",
            "Epoch    82, train loss 0.028092, train error 0.40,  val loss 0.411828, percent error 9.60\n",
            "Epoch    83, train loss 0.027886, train error 0.35,  val loss 0.409187, percent error 9.50\n",
            "Epoch    84, train loss 0.027677, train error 0.35,  val loss 0.411994, percent error 9.50\n",
            "Epoch    85, train loss 0.028449, train error 0.45,  val loss 0.416305, percent error 9.70\n",
            "Epoch    86, train loss 0.027224, train error 0.35,  val loss 0.412621, percent error 9.40\n",
            "Epoch    87, train loss 0.027196, train error 0.35,  val loss 0.416080, percent error 9.50\n",
            "Epoch    88, train loss 0.026972, train error 0.32,  val loss 0.415051, percent error 9.60\n",
            "Epoch    89, train loss 0.027509, train error 0.38,  val loss 0.418703, percent error 9.60\n",
            "Epoch    90, train loss 0.026784, train error 0.32,  val loss 0.416601, percent error 9.70\n",
            "Epoch    91, train loss 0.026647, train error 0.32,  val loss 0.419263, percent error 9.70\n",
            "Epoch    92, train loss 0.026458, train error 0.32,  val loss 0.421000, percent error 9.60\n",
            "Epoch    93, train loss 0.026324, train error 0.38,  val loss 0.421360, percent error 9.70\n",
            "Epoch    94, train loss 0.026165, train error 0.35,  val loss 0.423142, percent error 9.80\n",
            "Epoch    95, train loss 0.025651, train error 0.30,  val loss 0.420154, percent error 9.50\n",
            "Epoch    96, train loss 0.025806, train error 0.22,  val loss 0.423989, percent error 9.60\n",
            "Epoch    97, train loss 0.025618, train error 0.32,  val loss 0.423479, percent error 9.40\n",
            "Epoch    98, train loss 0.025939, train error 0.30,  val loss 0.427257, percent error 9.70\n",
            "Epoch    99, train loss 0.025120, train error 0.25,  val loss 0.425094, percent error 9.70\n"
          ]
        },
        {
          "output_type": "display_data",
          "data": {
            "text/plain": [
              "<Figure size 640x480 with 1 Axes>"
            ],
            "image/png": "[encoded data removed]"
          },
          "metadata": {}
        }
      ]
    }
  ]
}
