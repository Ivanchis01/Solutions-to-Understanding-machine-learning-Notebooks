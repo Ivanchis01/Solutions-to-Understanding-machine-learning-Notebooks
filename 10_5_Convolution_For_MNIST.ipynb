{
  "nbformat": 4,
  "nbformat_minor": 0,
  "metadata": {
    "colab": {
      "provenance": [],
      "include_colab_link": true
    },
    "kernelspec": {
      "name": "python3",
      "display_name": "Python 3"
    },
    "language_info": {
      "name": "python"
    }
  },
  "cells": [
    {
      "cell_type": "markdown",
      "metadata": {
        "id": "view-in-github",
        "colab_type": "text"
      },
      "source": [
        "<a href=\"https://colab.research.google.com/github/Ivanchis01/Solutions-to-Understanding-machine-learning-Notebooks/blob/main/10_5_Convolution_For_MNIST.ipynb\" target=\"_parent\"><img src=\"https://colab.research.google.com/assets/colab-badge.svg\" alt=\"Open In Colab\"/></a>"
      ]
    },
    {
      "cell_type": "markdown",
      "source": [
        "# **Notebook 10.5: Convolution for MNIST** *Solution*\n",
        "\n"
      ],
      "metadata": {
        "id": "t9vk9Elugvmi"
      }
    },
    {
      "cell_type": "code",
      "source": [
        "import torch\n",
        "import torchvision\n",
        "import torch.nn as nn\n",
        "import torch.nn.functional as F\n",
        "import torch.optim as optim\n",
        "import matplotlib.pyplot as plt\n",
        "import random"
      ],
      "metadata": {
        "id": "YrXWAH7sUWvU"
      },
      "execution_count": 1,
      "outputs": []
    },
    {
      "cell_type": "code",
      "source": [
        "# Run this once to load the train and test data straight into a dataloader class\n",
        "# that will provide the batches\n",
        "batch_size_train = 64\n",
        "batch_size_test = 1000\n",
        "train_loader = torch.utils.data.DataLoader(\n",
        "  torchvision.datasets.MNIST('/files/', train=True, download=True,\n",
        "                             transform=torchvision.transforms.Compose([\n",
        "                               torchvision.transforms.ToTensor(),\n",
        "                               torchvision.transforms.Normalize(\n",
        "                                 (0.1307,), (0.3081,))\n",
        "                             ])),\n",
        "  batch_size=batch_size_train, shuffle=True)\n",
        "\n",
        "test_loader = torch.utils.data.DataLoader(\n",
        "  torchvision.datasets.MNIST('/files/', train=False, download=True,\n",
        "                             transform=torchvision.transforms.Compose([\n",
        "                               torchvision.transforms.ToTensor(),\n",
        "                               torchvision.transforms.Normalize(\n",
        "                                 (0.1307,), (0.3081,))\n",
        "                             ])),\n",
        "  batch_size=batch_size_test, shuffle=True)"
      ],
      "metadata": {
        "id": "wScBGXXFVadm",
        "outputId": "fabbfa73-9c83-4d15-c6aa-b4881362596b",
        "colab": {
          "base_uri": "https://localhost:8080/"
        }
      },
      "execution_count": 2,
      "outputs": [
        {
          "output_type": "stream",
          "name": "stdout",
          "text": [
            "Downloading http://yann.lecun.com/exdb/mnist/train-images-idx3-ubyte.gz\n",
            "Failed to download (trying next):\n",
            "HTTP Error 403: Forbidden\n",
            "\n",
            "Downloading https://ossci-datasets.s3.amazonaws.com/mnist/train-images-idx3-ubyte.gz\n",
            "Downloading https://ossci-datasets.s3.amazonaws.com/mnist/train-images-idx3-ubyte.gz to /files/MNIST/raw/train-images-idx3-ubyte.gz\n"
          ]
        },
        {
          "output_type": "stream",
          "name": "stderr",
          "text": [
            "100%|██████████| 9912422/9912422 [00:00<00:00, 29680654.64it/s]\n"
          ]
        },
        {
          "output_type": "stream",
          "name": "stdout",
          "text": [
            "Extracting /files/MNIST/raw/train-images-idx3-ubyte.gz to /files/MNIST/raw\n",
            "\n",
            "Downloading http://yann.lecun.com/exdb/mnist/train-labels-idx1-ubyte.gz\n",
            "Failed to download (trying next):\n",
            "HTTP Error 403: Forbidden\n",
            "\n",
            "Downloading https://ossci-datasets.s3.amazonaws.com/mnist/train-labels-idx1-ubyte.gz\n",
            "Downloading https://ossci-datasets.s3.amazonaws.com/mnist/train-labels-idx1-ubyte.gz to /files/MNIST/raw/train-labels-idx1-ubyte.gz\n"
          ]
        },
        {
          "output_type": "stream",
          "name": "stderr",
          "text": [
            "100%|██████████| 28881/28881 [00:00<00:00, 995510.38it/s]\n"
          ]
        },
        {
          "output_type": "stream",
          "name": "stdout",
          "text": [
            "Extracting /files/MNIST/raw/train-labels-idx1-ubyte.gz to /files/MNIST/raw\n",
            "\n",
            "Downloading http://yann.lecun.com/exdb/mnist/t10k-images-idx3-ubyte.gz\n",
            "Failed to download (trying next):\n",
            "HTTP Error 403: Forbidden\n",
            "\n",
            "Downloading https://ossci-datasets.s3.amazonaws.com/mnist/t10k-images-idx3-ubyte.gz\n",
            "Downloading https://ossci-datasets.s3.amazonaws.com/mnist/t10k-images-idx3-ubyte.gz to /files/MNIST/raw/t10k-images-idx3-ubyte.gz\n"
          ]
        },
        {
          "output_type": "stream",
          "name": "stderr",
          "text": [
            "100%|██████████| 1648877/1648877 [00:00<00:00, 7710273.13it/s]\n"
          ]
        },
        {
          "output_type": "stream",
          "name": "stdout",
          "text": [
            "Extracting /files/MNIST/raw/t10k-images-idx3-ubyte.gz to /files/MNIST/raw\n",
            "\n",
            "Downloading http://yann.lecun.com/exdb/mnist/t10k-labels-idx1-ubyte.gz\n",
            "Failed to download (trying next):\n",
            "HTTP Error 403: Forbidden\n",
            "\n",
            "Downloading https://ossci-datasets.s3.amazonaws.com/mnist/t10k-labels-idx1-ubyte.gz\n",
            "Downloading https://ossci-datasets.s3.amazonaws.com/mnist/t10k-labels-idx1-ubyte.gz to /files/MNIST/raw/t10k-labels-idx1-ubyte.gz\n"
          ]
        },
        {
          "output_type": "stream",
          "name": "stderr",
          "text": [
            "100%|██████████| 4542/4542 [00:00<00:00, 8651466.29it/s]\n"
          ]
        },
        {
          "output_type": "stream",
          "name": "stdout",
          "text": [
            "Extracting /files/MNIST/raw/t10k-labels-idx1-ubyte.gz to /files/MNIST/raw\n",
            "\n"
          ]
        }
      ]
    },
    {
      "cell_type": "code",
      "source": [
        "# Let's draw some of the training data\n",
        "examples = enumerate(test_loader)\n",
        "batch_idx, (example_data, example_targets) = next(examples)\n",
        "\n",
        "fig = plt.figure()\n",
        "for i in range(6):\n",
        "  plt.subplot(2,3,i+1)\n",
        "  plt.tight_layout()\n",
        "  plt.imshow(example_data[i][0], cmap='gray', interpolation='none')\n",
        "  plt.title(\"Ground Truth: {}\".format(example_targets[i]))\n",
        "  plt.xticks([])\n",
        "  plt.yticks([])\n",
        "plt.show()"
      ],
      "metadata": {
        "id": "8bKADvLHbiV5",
        "outputId": "08abaebc-ed50-412d-f163-58bd55eca5d3",
        "colab": {
          "base_uri": "https://localhost:8080/",
          "height": 438
        }
      },
      "execution_count": 3,
      "outputs": [
        {
          "output_type": "display_data",
          "data": {
            "text/plain": [
              "<Figure size 640x480 with 6 Axes>"
            ],
            "image/png": "[encoded data removed]"
          },
          "metadata": {}
        }
      ]
    },
    {
      "cell_type": "markdown",
      "source": [
        "Define the network.  This is a more typical way to define a network than the sequential structure.  We define a class for the network, and define the parameters in the constructor.  Then we use a function called forward to actually run the network.  It's easy to see how you might use residual connections in this format."
      ],
      "metadata": {
        "id": "_sFvRDGrl4qe"
      }
    },
    {
      "cell_type": "code",
      "source": [
        "from os import X_OK\n",
        "class Net(nn.Module):\n",
        "    def __init__(self):\n",
        "        super(Net, self).__init__()\n",
        "        self.conv1 = nn.Conv2d(1, 10, kernel_size=5)\n",
        "        self.conv2 = nn.Conv2d(10, 20, kernel_size=5)\n",
        "        self.drop = nn.Dropout2d()\n",
        "        self.fc1 = nn.Linear(20 * 4 * 4, 50)\n",
        "        self.fc2 = nn.Linear(50, 10)\n",
        "\n",
        "    def forward(self, x):\n",
        "        x = self.conv1(x)\n",
        "        x = F.relu(x)\n",
        "        x = F.max_pool2d(x, 2)\n",
        "        x = self.conv2(x)\n",
        "        x = F.relu(x)\n",
        "        x = F.max_pool2d(x, 2)\n",
        "        x = self.drop(x)\n",
        "        x = x.flatten(1)\n",
        "        x = self.fc1(x)\n",
        "        x = F.relu(x)\n",
        "        x = self.fc2(x)\n",
        "        x = F.log_softmax(x, dim=1)\n",
        "\n",
        "        return x"
      ],
      "metadata": {
        "id": "EQkvw2KOPVl7"
      },
      "execution_count": 4,
      "outputs": []
    },
    {
      "cell_type": "code",
      "source": [
        "# He initialization of weights\n",
        "def weights_init(layer_in):\n",
        "  if isinstance(layer_in, nn.Linear):\n",
        "    nn.init.kaiming_uniform_(layer_in.weight)\n",
        "    layer_in.bias.data.fill_(0.0)"
      ],
      "metadata": {
        "id": "qWZtkCZcU_dg"
      },
      "execution_count": 5,
      "outputs": []
    },
    {
      "cell_type": "code",
      "source": [
        "# Create network\n",
        "model = Net()\n",
        "# Initialize model weights\n",
        "model.apply(weights_init)\n",
        "# Define optimizer\n",
        "optimizer = optim.SGD(model.parameters(), lr=0.01, momentum=0.5)"
      ],
      "metadata": {
        "id": "FslroPJJffrh"
      },
      "execution_count": 6,
      "outputs": []
    },
    {
      "cell_type": "code",
      "source": [
        "# Main training routine\n",
        "def train(epoch):\n",
        "  model.train()\n",
        "  # Get each\n",
        "  for batch_idx, (data, target) in enumerate(train_loader):\n",
        "    optimizer.zero_grad()\n",
        "    output = model(data)\n",
        "    loss = F.nll_loss(output, target)\n",
        "    loss.backward()\n",
        "    optimizer.step()\n",
        "    # Store results\n",
        "    if batch_idx % 10 == 0:\n",
        "      print('Train Epoch: {} [{}/{}]\\tLoss: {:.6f}'.format(\n",
        "        epoch, batch_idx * len(data), len(train_loader.dataset), loss.item()))"
      ],
      "metadata": {
        "id": "xKQd9PzkQ766"
      },
      "execution_count": 7,
      "outputs": []
    },
    {
      "cell_type": "code",
      "source": [
        "# Run on test data\n",
        "def test():\n",
        "  model.eval()\n",
        "  test_loss = 0\n",
        "  correct = 0\n",
        "  with torch.no_grad():\n",
        "    for data, target in test_loader:\n",
        "      output = model(data)\n",
        "      test_loss += F.nll_loss(output, target, size_average=False).item()\n",
        "      pred = output.data.max(1, keepdim=True)[1]\n",
        "      correct += pred.eq(target.data.view_as(pred)).sum()\n",
        "  test_loss /= len(test_loader.dataset)\n",
        "  print('\\nTest set: Avg. loss: {:.4f}, Accuracy: {}/{} ({:.0f}%)\\n'.format(\n",
        "    test_loss, correct, len(test_loader.dataset),\n",
        "    100. * correct / len(test_loader.dataset)))"
      ],
      "metadata": {
        "id": "Byn-f7qWRLxX"
      },
      "execution_count": 8,
      "outputs": []
    },
    {
      "cell_type": "code",
      "source": [
        "# Get initial performance\n",
        "test()\n",
        "# Train for three epochs\n",
        "n_epochs = 3\n",
        "for epoch in range(1, n_epochs + 1):\n",
        "  train(epoch)\n",
        "  test()"
      ],
      "metadata": {
        "id": "YgLaex1pfhqz",
        "outputId": "698b736d-e743-45f4-f850-6a3108818cb2",
        "colab": {
          "base_uri": "https://localhost:8080/"
        }
      },
      "execution_count": 9,
      "outputs": [
        {
          "output_type": "stream",
          "name": "stderr",
          "text": [
            "/usr/local/lib/python3.10/dist-packages/torch/nn/_reduction.py:42: UserWarning: size_average and reduce args will be deprecated, please use reduction='sum' instead.\n",
            "  warnings.warn(warning.format(ret))\n"
          ]
        },
        {
          "output_type": "stream",
          "name": "stdout",
          "text": [
            "\n",
            "Test set: Avg. loss: 2.4621, Accuracy: 1000/10000 (10%)\n",
            "\n",
            "Train Epoch: 1 [0/60000]\tLoss: 2.517536\n",
            "Train Epoch: 1 [640/60000]\tLoss: 2.271873\n",
            "Train Epoch: 1 [1280/60000]\tLoss: 2.110119\n",
            "Train Epoch: 1 [1920/60000]\tLoss: 2.053741\n",
            "Train Epoch: 1 [2560/60000]\tLoss: 1.646814\n",
            "Train Epoch: 1 [3200/60000]\tLoss: 1.661427\n",
            "Train Epoch: 1 [3840/60000]\tLoss: 1.486890\n",
            "Train Epoch: 1 [4480/60000]\tLoss: 1.267380\n",
            "Train Epoch: 1 [5120/60000]\tLoss: 1.253495\n",
            "Train Epoch: 1 [5760/60000]\tLoss: 0.736850\n",
            "Train Epoch: 1 [6400/60000]\tLoss: 1.226518\n",
            "Train Epoch: 1 [7040/60000]\tLoss: 1.112723\n",
            "Train Epoch: 1 [7680/60000]\tLoss: 0.870324\n",
            "Train Epoch: 1 [8320/60000]\tLoss: 0.707775\n",
            "Train Epoch: 1 [8960/60000]\tLoss: 0.684086\n",
            "Train Epoch: 1 [9600/60000]\tLoss: 0.600822\n",
            "Train Epoch: 1 [10240/60000]\tLoss: 0.668223\n",
            "Train Epoch: 1 [10880/60000]\tLoss: 0.688098\n",
            "Train Epoch: 1 [11520/60000]\tLoss: 0.582592\n",
            "Train Epoch: 1 [12160/60000]\tLoss: 0.462220\n",
            "Train Epoch: 1 [12800/60000]\tLoss: 0.412570\n",
            "Train Epoch: 1 [13440/60000]\tLoss: 0.501238\n",
            "Train Epoch: 1 [14080/60000]\tLoss: 0.473110\n",
            "Train Epoch: 1 [14720/60000]\tLoss: 0.848322\n",
            "Train Epoch: 1 [15360/60000]\tLoss: 0.652856\n",
            "Train Epoch: 1 [16000/60000]\tLoss: 0.596617\n",
            "Train Epoch: 1 [16640/60000]\tLoss: 0.568010\n",
            "Train Epoch: 1 [17280/60000]\tLoss: 0.327437\n",
            "Train Epoch: 1 [17920/60000]\tLoss: 0.378109\n",
            "Train Epoch: 1 [18560/60000]\tLoss: 0.613598\n",
            "Train Epoch: 1 [19200/60000]\tLoss: 0.647758\n",
            "Train Epoch: 1 [19840/60000]\tLoss: 0.363838\n",
            "Train Epoch: 1 [20480/60000]\tLoss: 0.559786\n",
            "Train Epoch: 1 [21120/60000]\tLoss: 0.677430\n",
            "Train Epoch: 1 [21760/60000]\tLoss: 0.393283\n",
            "Train Epoch: 1 [22400/60000]\tLoss: 0.409793\n",
            "Train Epoch: 1 [23040/60000]\tLoss: 0.686189\n",
            "Train Epoch: 1 [23680/60000]\tLoss: 0.306878\n",
            "Train Epoch: 1 [24320/60000]\tLoss: 0.769717\n",
            "Train Epoch: 1 [24960/60000]\tLoss: 0.433852\n",
            "Train Epoch: 1 [25600/60000]\tLoss: 0.326130\n",
            "Train Epoch: 1 [26240/60000]\tLoss: 0.190930\n",
            "Train Epoch: 1 [26880/60000]\tLoss: 0.472408\n",
            "Train Epoch: 1 [27520/60000]\tLoss: 0.513083\n",
            "Train Epoch: 1 [28160/60000]\tLoss: 0.500429\n",
            "Train Epoch: 1 [28800/60000]\tLoss: 0.395583\n",
            "Train Epoch: 1 [29440/60000]\tLoss: 0.495320\n",
            "Train Epoch: 1 [30080/60000]\tLoss: 0.292614\n",
            "Train Epoch: 1 [30720/60000]\tLoss: 0.347183\n",
            "Train Epoch: 1 [31360/60000]\tLoss: 0.200919\n",
            "Train Epoch: 1 [32000/60000]\tLoss: 0.490355\n",
            "Train Epoch: 1 [32640/60000]\tLoss: 0.299892\n",
            "Train Epoch: 1 [33280/60000]\tLoss: 0.268090\n",
            "Train Epoch: 1 [33920/60000]\tLoss: 0.380639\n",
            "Train Epoch: 1 [34560/60000]\tLoss: 0.381999\n",
            "Train Epoch: 1 [35200/60000]\tLoss: 0.414329\n",
            "Train Epoch: 1 [35840/60000]\tLoss: 0.155723\n",
            "Train Epoch: 1 [36480/60000]\tLoss: 0.517549\n",
            "Train Epoch: 1 [37120/60000]\tLoss: 0.360783\n",
            "Train Epoch: 1 [37760/60000]\tLoss: 0.293225\n",
            "Train Epoch: 1 [38400/60000]\tLoss: 0.355697\n",
            "Train Epoch: 1 [39040/60000]\tLoss: 0.295033\n",
            "Train Epoch: 1 [39680/60000]\tLoss: 0.309883\n",
            "Train Epoch: 1 [40320/60000]\tLoss: 0.184350\n",
            "Train Epoch: 1 [40960/60000]\tLoss: 0.286778\n",
            "Train Epoch: 1 [41600/60000]\tLoss: 0.331597\n",
            "Train Epoch: 1 [42240/60000]\tLoss: 0.277172\n",
            "Train Epoch: 1 [42880/60000]\tLoss: 0.236998\n",
            "Train Epoch: 1 [43520/60000]\tLoss: 0.216141\n",
            "Train Epoch: 1 [44160/60000]\tLoss: 0.248034\n",
            "Train Epoch: 1 [44800/60000]\tLoss: 0.342508\n",
            "Train Epoch: 1 [45440/60000]\tLoss: 0.263897\n",
            "Train Epoch: 1 [46080/60000]\tLoss: 0.522551\n",
            "Train Epoch: 1 [46720/60000]\tLoss: 0.273508\n",
            "Train Epoch: 1 [47360/60000]\tLoss: 0.476387\n",
            "Train Epoch: 1 [48000/60000]\tLoss: 0.304530\n",
            "Train Epoch: 1 [48640/60000]\tLoss: 0.261857\n",
            "Train Epoch: 1 [49280/60000]\tLoss: 0.394029\n",
            "Train Epoch: 1 [49920/60000]\tLoss: 0.146204\n",
            "Train Epoch: 1 [50560/60000]\tLoss: 0.216981\n",
            "Train Epoch: 1 [51200/60000]\tLoss: 0.290083\n",
            "Train Epoch: 1 [51840/60000]\tLoss: 0.099291\n",
            "Train Epoch: 1 [52480/60000]\tLoss: 0.138547\n",
            "Train Epoch: 1 [53120/60000]\tLoss: 0.136230\n",
            "Train Epoch: 1 [53760/60000]\tLoss: 0.369032\n",
            "Train Epoch: 1 [54400/60000]\tLoss: 0.310932\n",
            "Train Epoch: 1 [55040/60000]\tLoss: 0.336395\n",
            "Train Epoch: 1 [55680/60000]\tLoss: 0.350759\n",
            "Train Epoch: 1 [56320/60000]\tLoss: 0.251828\n",
            "Train Epoch: 1 [56960/60000]\tLoss: 0.305551\n",
            "Train Epoch: 1 [57600/60000]\tLoss: 0.279599\n",
            "Train Epoch: 1 [58240/60000]\tLoss: 0.149097\n",
            "Train Epoch: 1 [58880/60000]\tLoss: 0.369018\n",
            "Train Epoch: 1 [59520/60000]\tLoss: 0.392365\n",
            "\n",
            "Test set: Avg. loss: 0.1346, Accuracy: 9614/10000 (96%)\n",
            "\n",
            "Train Epoch: 2 [0/60000]\tLoss: 0.078973\n",
            "Train Epoch: 2 [640/60000]\tLoss: 0.124778\n",
            "Train Epoch: 2 [1280/60000]\tLoss: 0.302704\n",
            "Train Epoch: 2 [1920/60000]\tLoss: 0.110738\n",
            "Train Epoch: 2 [2560/60000]\tLoss: 0.195326\n",
            "Train Epoch: 2 [3200/60000]\tLoss: 0.238298\n",
            "Train Epoch: 2 [3840/60000]\tLoss: 0.363415\n",
            "Train Epoch: 2 [4480/60000]\tLoss: 0.117759\n",
            "Train Epoch: 2 [5120/60000]\tLoss: 0.103245\n",
            "Train Epoch: 2 [5760/60000]\tLoss: 0.190180\n",
            "Train Epoch: 2 [6400/60000]\tLoss: 0.168328\n",
            "Train Epoch: 2 [7040/60000]\tLoss: 0.186761\n",
            "Train Epoch: 2 [7680/60000]\tLoss: 0.180302\n",
            "Train Epoch: 2 [8320/60000]\tLoss: 0.206830\n",
            "Train Epoch: 2 [8960/60000]\tLoss: 0.112418\n",
            "Train Epoch: 2 [9600/60000]\tLoss: 0.261234\n",
            "Train Epoch: 2 [10240/60000]\tLoss: 0.202030\n",
            "Train Epoch: 2 [10880/60000]\tLoss: 0.296296\n",
            "Train Epoch: 2 [11520/60000]\tLoss: 0.228159\n",
            "Train Epoch: 2 [12160/60000]\tLoss: 0.138167\n",
            "Train Epoch: 2 [12800/60000]\tLoss: 0.264234\n",
            "Train Epoch: 2 [13440/60000]\tLoss: 0.856050\n",
            "Train Epoch: 2 [14080/60000]\tLoss: 0.205668\n",
            "Train Epoch: 2 [14720/60000]\tLoss: 0.059440\n",
            "Train Epoch: 2 [15360/60000]\tLoss: 0.235593\n",
            "Train Epoch: 2 [16000/60000]\tLoss: 0.378201\n",
            "Train Epoch: 2 [16640/60000]\tLoss: 0.092090\n",
            "Train Epoch: 2 [17280/60000]\tLoss: 0.171290\n",
            "Train Epoch: 2 [17920/60000]\tLoss: 0.211799\n",
            "Train Epoch: 2 [18560/60000]\tLoss: 0.454681\n",
            "Train Epoch: 2 [19200/60000]\tLoss: 0.113425\n",
            "Train Epoch: 2 [19840/60000]\tLoss: 0.114195\n",
            "Train Epoch: 2 [20480/60000]\tLoss: 0.299959\n",
            "Train Epoch: 2 [21120/60000]\tLoss: 0.301027\n",
            "Train Epoch: 2 [21760/60000]\tLoss: 0.225990\n",
            "Train Epoch: 2 [22400/60000]\tLoss: 0.222764\n",
            "Train Epoch: 2 [23040/60000]\tLoss: 0.561809\n",
            "Train Epoch: 2 [23680/60000]\tLoss: 0.212638\n",
            "Train Epoch: 2 [24320/60000]\tLoss: 0.224318\n",
            "Train Epoch: 2 [24960/60000]\tLoss: 0.089619\n",
            "Train Epoch: 2 [25600/60000]\tLoss: 0.244385\n",
            "Train Epoch: 2 [26240/60000]\tLoss: 0.088635\n",
            "Train Epoch: 2 [26880/60000]\tLoss: 0.152245\n",
            "Train Epoch: 2 [27520/60000]\tLoss: 0.282286\n",
            "Train Epoch: 2 [28160/60000]\tLoss: 0.166152\n",
            "Train Epoch: 2 [28800/60000]\tLoss: 0.232750\n",
            "Train Epoch: 2 [29440/60000]\tLoss: 0.139711\n",
            "Train Epoch: 2 [30080/60000]\tLoss: 0.307019\n",
            "Train Epoch: 2 [30720/60000]\tLoss: 0.088775\n",
            "Train Epoch: 2 [31360/60000]\tLoss: 0.269221\n",
            "Train Epoch: 2 [32000/60000]\tLoss: 0.236152\n",
            "Train Epoch: 2 [32640/60000]\tLoss: 0.247765\n",
            "Train Epoch: 2 [33280/60000]\tLoss: 0.143849\n",
            "Train Epoch: 2 [33920/60000]\tLoss: 0.285400\n",
            "Train Epoch: 2 [34560/60000]\tLoss: 0.510192\n",
            "Train Epoch: 2 [35200/60000]\tLoss: 0.307934\n",
            "Train Epoch: 2 [35840/60000]\tLoss: 0.280099\n",
            "Train Epoch: 2 [36480/60000]\tLoss: 0.179313\n",
            "Train Epoch: 2 [37120/60000]\tLoss: 0.296938\n",
            "Train Epoch: 2 [37760/60000]\tLoss: 0.646413\n",
            "Train Epoch: 2 [38400/60000]\tLoss: 0.111181\n",
            "Train Epoch: 2 [39040/60000]\tLoss: 0.083454\n",
            "Train Epoch: 2 [39680/60000]\tLoss: 0.361888\n",
            "Train Epoch: 2 [40320/60000]\tLoss: 0.114124\n",
            "Train Epoch: 2 [40960/60000]\tLoss: 0.167751\n",
            "Train Epoch: 2 [41600/60000]\tLoss: 0.137510\n",
            "Train Epoch: 2 [42240/60000]\tLoss: 0.289826\n",
            "Train Epoch: 2 [42880/60000]\tLoss: 0.132164\n",
            "Train Epoch: 2 [43520/60000]\tLoss: 0.137385\n",
            "Train Epoch: 2 [44160/60000]\tLoss: 0.439770\n",
            "Train Epoch: 2 [44800/60000]\tLoss: 0.168372\n",
            "Train Epoch: 2 [45440/60000]\tLoss: 0.139429\n",
            "Train Epoch: 2 [46080/60000]\tLoss: 0.150298\n",
            "Train Epoch: 2 [46720/60000]\tLoss: 0.061438\n",
            "Train Epoch: 2 [47360/60000]\tLoss: 0.163969\n",
            "Train Epoch: 2 [48000/60000]\tLoss: 0.133339\n",
            "Train Epoch: 2 [48640/60000]\tLoss: 0.092053\n",
            "Train Epoch: 2 [49280/60000]\tLoss: 0.128795\n",
            "Train Epoch: 2 [49920/60000]\tLoss: 0.125159\n",
            "Train Epoch: 2 [50560/60000]\tLoss: 0.076666\n",
            "Train Epoch: 2 [51200/60000]\tLoss: 0.191321\n",
            "Train Epoch: 2 [51840/60000]\tLoss: 0.143535\n",
            "Train Epoch: 2 [52480/60000]\tLoss: 0.148820\n",
            "Train Epoch: 2 [53120/60000]\tLoss: 0.178808\n",
            "Train Epoch: 2 [53760/60000]\tLoss: 0.186149\n",
            "Train Epoch: 2 [54400/60000]\tLoss: 0.187439\n",
            "Train Epoch: 2 [55040/60000]\tLoss: 0.134329\n",
            "Train Epoch: 2 [55680/60000]\tLoss: 0.206131\n",
            "Train Epoch: 2 [56320/60000]\tLoss: 0.240964\n",
            "Train Epoch: 2 [56960/60000]\tLoss: 0.129398\n",
            "Train Epoch: 2 [57600/60000]\tLoss: 0.191629\n",
            "Train Epoch: 2 [58240/60000]\tLoss: 0.103920\n",
            "Train Epoch: 2 [58880/60000]\tLoss: 0.183005\n",
            "Train Epoch: 2 [59520/60000]\tLoss: 0.246892\n",
            "\n",
            "Test set: Avg. loss: 0.0862, Accuracy: 9728/10000 (97%)\n",
            "\n",
            "Train Epoch: 3 [0/60000]\tLoss: 0.130896\n",
            "Train Epoch: 3 [640/60000]\tLoss: 0.209482\n",
            "Train Epoch: 3 [1280/60000]\tLoss: 0.123277\n",
            "Train Epoch: 3 [1920/60000]\tLoss: 0.237558\n",
            "Train Epoch: 3 [2560/60000]\tLoss: 0.172218\n",
            "Train Epoch: 3 [3200/60000]\tLoss: 0.088898\n",
            "Train Epoch: 3 [3840/60000]\tLoss: 0.240142\n",
            "Train Epoch: 3 [4480/60000]\tLoss: 0.201975\n",
            "Train Epoch: 3 [5120/60000]\tLoss: 0.351469\n",
            "Train Epoch: 3 [5760/60000]\tLoss: 0.479405\n",
            "Train Epoch: 3 [6400/60000]\tLoss: 0.126330\n",
            "Train Epoch: 3 [7040/60000]\tLoss: 0.306058\n",
            "Train Epoch: 3 [7680/60000]\tLoss: 0.255426\n",
            "Train Epoch: 3 [8320/60000]\tLoss: 0.118413\n",
            "Train Epoch: 3 [8960/60000]\tLoss: 0.157314\n",
            "Train Epoch: 3 [9600/60000]\tLoss: 0.097429\n",
            "Train Epoch: 3 [10240/60000]\tLoss: 0.205548\n",
            "Train Epoch: 3 [10880/60000]\tLoss: 0.180579\n",
            "Train Epoch: 3 [11520/60000]\tLoss: 0.184767\n",
            "Train Epoch: 3 [12160/60000]\tLoss: 0.051342\n",
            "Train Epoch: 3 [12800/60000]\tLoss: 0.054858\n",
            "Train Epoch: 3 [13440/60000]\tLoss: 0.146514\n",
            "Train Epoch: 3 [14080/60000]\tLoss: 0.101769\n",
            "Train Epoch: 3 [14720/60000]\tLoss: 0.328661\n",
            "Train Epoch: 3 [15360/60000]\tLoss: 0.121032\n",
            "Train Epoch: 3 [16000/60000]\tLoss: 0.181146\n",
            "Train Epoch: 3 [16640/60000]\tLoss: 0.221997\n",
            "Train Epoch: 3 [17280/60000]\tLoss: 0.083381\n",
            "Train Epoch: 3 [17920/60000]\tLoss: 0.157774\n",
            "Train Epoch: 3 [18560/60000]\tLoss: 0.037548\n",
            "Train Epoch: 3 [19200/60000]\tLoss: 0.161085\n",
            "Train Epoch: 3 [19840/60000]\tLoss: 0.065471\n",
            "Train Epoch: 3 [20480/60000]\tLoss: 0.184952\n",
            "Train Epoch: 3 [21120/60000]\tLoss: 0.143636\n",
            "Train Epoch: 3 [21760/60000]\tLoss: 0.201546\n",
            "Train Epoch: 3 [22400/60000]\tLoss: 0.138498\n",
            "Train Epoch: 3 [23040/60000]\tLoss: 0.225975\n",
            "Train Epoch: 3 [23680/60000]\tLoss: 0.258401\n",
            "Train Epoch: 3 [24320/60000]\tLoss: 0.068820\n",
            "Train Epoch: 3 [24960/60000]\tLoss: 0.131327\n",
            "Train Epoch: 3 [25600/60000]\tLoss: 0.179210\n",
            "Train Epoch: 3 [26240/60000]\tLoss: 0.087660\n",
            "Train Epoch: 3 [26880/60000]\tLoss: 0.114655\n",
            "Train Epoch: 3 [27520/60000]\tLoss: 0.263607\n",
            "Train Epoch: 3 [28160/60000]\tLoss: 0.189433\n",
            "Train Epoch: 3 [28800/60000]\tLoss: 0.132437\n",
            "Train Epoch: 3 [29440/60000]\tLoss: 0.098980\n",
            "Train Epoch: 3 [30080/60000]\tLoss: 0.084729\n",
            "Train Epoch: 3 [30720/60000]\tLoss: 0.147595\n",
            "Train Epoch: 3 [31360/60000]\tLoss: 0.068284\n",
            "Train Epoch: 3 [32000/60000]\tLoss: 0.020253\n",
            "Train Epoch: 3 [32640/60000]\tLoss: 0.211578\n",
            "Train Epoch: 3 [33280/60000]\tLoss: 0.269614\n",
            "Train Epoch: 3 [33920/60000]\tLoss: 0.121142\n",
            "Train Epoch: 3 [34560/60000]\tLoss: 0.125252\n",
            "Train Epoch: 3 [35200/60000]\tLoss: 0.142636\n",
            "Train Epoch: 3 [35840/60000]\tLoss: 0.165481\n",
            "Train Epoch: 3 [36480/60000]\tLoss: 0.156357\n",
            "Train Epoch: 3 [37120/60000]\tLoss: 0.051273\n",
            "Train Epoch: 3 [37760/60000]\tLoss: 0.109433\n",
            "Train Epoch: 3 [38400/60000]\tLoss: 0.062992\n",
            "Train Epoch: 3 [39040/60000]\tLoss: 0.121008\n",
            "Train Epoch: 3 [39680/60000]\tLoss: 0.099261\n",
            "Train Epoch: 3 [40320/60000]\tLoss: 0.473440\n",
            "Train Epoch: 3 [40960/60000]\tLoss: 0.148583\n",
            "Train Epoch: 3 [41600/60000]\tLoss: 0.044482\n",
            "Train Epoch: 3 [42240/60000]\tLoss: 0.094008\n",
            "Train Epoch: 3 [42880/60000]\tLoss: 0.218689\n",
            "Train Epoch: 3 [43520/60000]\tLoss: 0.094740\n",
            "Train Epoch: 3 [44160/60000]\tLoss: 0.078672\n",
            "Train Epoch: 3 [44800/60000]\tLoss: 0.120390\n",
            "Train Epoch: 3 [45440/60000]\tLoss: 0.109640\n",
            "Train Epoch: 3 [46080/60000]\tLoss: 0.113871\n",
            "Train Epoch: 3 [46720/60000]\tLoss: 0.084805\n",
            "Train Epoch: 3 [47360/60000]\tLoss: 0.104429\n",
            "Train Epoch: 3 [48000/60000]\tLoss: 0.142828\n",
            "Train Epoch: 3 [48640/60000]\tLoss: 0.112319\n",
            "Train Epoch: 3 [49280/60000]\tLoss: 0.140580\n",
            "Train Epoch: 3 [49920/60000]\tLoss: 0.128247\n",
            "Train Epoch: 3 [50560/60000]\tLoss: 0.214754\n",
            "Train Epoch: 3 [51200/60000]\tLoss: 0.128086\n",
            "Train Epoch: 3 [51840/60000]\tLoss: 0.146356\n",
            "Train Epoch: 3 [52480/60000]\tLoss: 0.132940\n",
            "Train Epoch: 3 [53120/60000]\tLoss: 0.097847\n",
            "Train Epoch: 3 [53760/60000]\tLoss: 0.054763\n",
            "Train Epoch: 3 [54400/60000]\tLoss: 0.090271\n",
            "Train Epoch: 3 [55040/60000]\tLoss: 0.138331\n",
            "Train Epoch: 3 [55680/60000]\tLoss: 0.056796\n",
            "Train Epoch: 3 [56320/60000]\tLoss: 0.215239\n",
            "Train Epoch: 3 [56960/60000]\tLoss: 0.177438\n",
            "Train Epoch: 3 [57600/60000]\tLoss: 0.079747\n",
            "Train Epoch: 3 [58240/60000]\tLoss: 0.160454\n",
            "Train Epoch: 3 [58880/60000]\tLoss: 0.046679\n",
            "Train Epoch: 3 [59520/60000]\tLoss: 0.062061\n",
            "\n",
            "Test set: Avg. loss: 0.0700, Accuracy: 9774/10000 (98%)\n",
            "\n"
          ]
        }
      ]
    },
    {
      "cell_type": "code",
      "source": [
        "# Run network on data we got before and show predictions\n",
        "output = model(example_data)\n",
        "\n",
        "fig = plt.figure()\n",
        "for i in range(10):\n",
        "  plt.subplot(5,5,i+1)\n",
        "  plt.tight_layout()\n",
        "  plt.imshow(example_data[i][0], cmap='gray', interpolation='none')\n",
        "  plt.title(\"Prediction: {}\".format(\n",
        "    output.data.max(1, keepdim=True)[1][i].item()))\n",
        "  plt.xticks([])\n",
        "  plt.yticks([])\n",
        "plt.show()"
      ],
      "metadata": {
        "id": "o7fRUAy9Se1B",
        "outputId": "5ffa2be8-ae83-4519-89d0-ce9c163e96d5",
        "colab": {
          "base_uri": "https://localhost:8080/",
          "height": 207
        }
      },
      "execution_count": 10,
      "outputs": [
        {
          "output_type": "display_data",
          "data": {
            "text/plain": [
              "<Figure size 640x480 with 10 Axes>"
            ],
            "image/png": "[encoded data removed]"
          },
          "metadata": {}
        }
      ]
    }
  ]
}